{
  "nbformat": 4,
  "nbformat_minor": 0,
  "metadata": {
    "colab": {
      "name": "asgn1_2.ipynb",
      "provenance": [],
      "collapsed_sections": []
    },
    "kernelspec": {
      "name": "python3",
      "display_name": "Python 3"
    },
    "language_info": {
      "name": "python"
    }
  },
  "cells": [
    {
      "cell_type": "code",
      "execution_count": null,
      "metadata": {
        "colab": {
          "base_uri": "https://localhost:8080/",
          "height": 236
        },
        "id": "OP2tZYfgjKKU",
        "outputId": "fca82ea6-39d0-46cc-a8e6-0696e4fc4018"
      },
      "outputs": [
        {
          "output_type": "error",
          "ename": "TypeError",
          "evalue": "ignored",
          "traceback": [
            "\u001b[0;31m---------------------------------------------------------------------------\u001b[0m",
            "\u001b[0;31mTypeError\u001b[0m                                 Traceback (most recent call last)",
            "\u001b[0;32m<ipython-input-4-5a342261985b>\u001b[0m in \u001b[0;36m<module>\u001b[0;34m()\u001b[0m\n\u001b[1;32m     19\u001b[0m \u001b[0;31m#creating 50 data set\u001b[0m\u001b[0;34m\u001b[0m\u001b[0;34m\u001b[0m\u001b[0;34m\u001b[0m\u001b[0m\n\u001b[1;32m     20\u001b[0m \u001b[0;32mfor\u001b[0m \u001b[0mi\u001b[0m \u001b[0;32min\u001b[0m \u001b[0mrange\u001b[0m\u001b[0;34m(\u001b[0m\u001b[0;36m50\u001b[0m\u001b[0;34m)\u001b[0m\u001b[0;34m:\u001b[0m\u001b[0;34m\u001b[0m\u001b[0;34m\u001b[0m\u001b[0m\n\u001b[0;32m---> 21\u001b[0;31m   \u001b[0mx1\u001b[0m \u001b[0;34m=\u001b[0m \u001b[0mrandom\u001b[0m\u001b[0;34m.\u001b[0m\u001b[0muniform\u001b[0m\u001b[0;34m(\u001b[0m\u001b[0;34m-\u001b[0m\u001b[0;36m0.5\u001b[0m\u001b[0;34m,\u001b[0m\u001b[0;36m0.5\u001b[0m \u001b[0;34m,\u001b[0m \u001b[0;36m50\u001b[0m\u001b[0;34m)\u001b[0m\u001b[0;34m\u001b[0m\u001b[0;34m\u001b[0m\u001b[0m\n\u001b[0m\u001b[1;32m     22\u001b[0m   \u001b[0mx2\u001b[0m \u001b[0;34m=\u001b[0m \u001b[0mrandom\u001b[0m\u001b[0;34m.\u001b[0m\u001b[0muniform\u001b[0m\u001b[0;34m(\u001b[0m\u001b[0;34m-\u001b[0m\u001b[0;36m2\u001b[0m\u001b[0;34m,\u001b[0m\u001b[0;36m2\u001b[0m\u001b[0;34m)\u001b[0m\u001b[0;34m\u001b[0m\u001b[0;34m\u001b[0m\u001b[0m\n\u001b[1;32m     23\u001b[0m   \u001b[0mx1_list\u001b[0m\u001b[0;34m[\u001b[0m\u001b[0mx1\u001b[0m\u001b[0;34m]\u001b[0m\u001b[0;34m\u001b[0m\u001b[0;34m\u001b[0m\u001b[0m\n",
            "\u001b[0;31mTypeError\u001b[0m: uniform() takes 3 positional arguments but 4 were given"
          ]
        }
      ],
      "source": [
        "import numpy as np\n",
        "from matplotlib import pyplot as plt\n",
        "import random\n",
        "import time\n",
        "%matplotlib inline\n",
        "from IPython import display\n",
        "\n",
        "# Sigmoid Function\n",
        "def sigmoid(u):\n",
        "    return 1 / (1 + np.exp(-u))\n",
        "\n",
        "x1_list = []\n",
        "x2_list = []\n",
        "x3_l = []\n",
        "target_l = []\n",
        "le =0.1\n",
        "\n",
        "\n",
        "#creating 50 data set\n",
        "for i in range(50):\n",
        "  x1 = random.uniform(-0.5,0.5 )\n",
        "  x2 = random.uniform(-2,2)\n",
        "  x1_list[x1]\n",
        "  x2_list[x2]\n",
        "  t.append(0)\n",
        "\n",
        "\n",
        "#loop to create 25 negative datasets\n",
        "for i in range(25):\n",
        "  r = random.uniform(9,16)\n",
        "  x1 = random.uniform(-4,4)\n",
        "  x2 = - np.sqrt(np.square(r) - np.square(x1))\n",
        "  x1_list.append(x1)\n",
        "  x2_list.append(x2)\n",
        "  t.append(1)\n",
        "\n",
        "#loop to create 25 positive datasets\n",
        "for i in range(25):\n",
        "  r = random.uniform(9,16)\n",
        "  x1 = random.uniform(-4,4)\n",
        "  x2 =  np.sqrt(np.square(r) - np.square(x1))\n",
        "  x1_list.append(x1)\n",
        "  x2_list.append(x2)\n",
        "  t.append(1)\n",
        "\n",
        "#given random values range from -2,2\n",
        "w1= np.random.uniform(-2,2)\n",
        "w2= np.random.uniform(-2,2)\n",
        "w3= np.random.uniform(-2,2)\n",
        "w4= np.random.uniform(-2,2) \n",
        "\n",
        "while True:\n",
        "  Total_error =0\n",
        "  x3 = np.square(x1)+np.square(x2)\n",
        "  for i in range(100):\n",
        "    #line equation\n",
        "    u = (x1_list[i]*w1) + (x2_list[i]*w2) + (x3[i]*w3) + w4\n",
        "    #activation function:sigmoid    \n",
        "    y = sigmoid(u)\n",
        "    E = np.square(target_l[i]-y)\n",
        "    Total_error = E + Total_error\n",
        "    #derivative of w1\n",
        "    dw1 = le * (target_l[i]-y)* y *(1-y) * x1_list[i]\n",
        "    #derivative of w2\n",
        "    dw2 = le * (target_l[i]-y)* y *(1-y) * x2_list[i] \n",
        "    #derivative of w3\n",
        "    dw3 = le * (target_l[i]-y)* y *(1-y) * x3_l[i]\n",
        "    #derivative of w4\n",
        "    dw4 = le * (target_l[i]-y)* y *(1-y) \n",
        "    # change the weights\n",
        "    w1 = w1 + dw1\n",
        "    w2 = w2 + dw2\n",
        "    w3 = w3 + dw3\n",
        "    w4 = w4 + dw4\n",
        "    time.sleep(0.001)\n",
        "\n",
        "    fig = plt.figure()\n",
        "    ax = plt.axes(projection=\"3d\")\n",
        "    x=np.linspace(0,6,num=10)\n",
        "    y=np.linspace(0,6,num=10)\n",
        "    x,y= np.meshgrid(x,y)\n",
        "    z= -(w1*x+w2*y+w4)/w3\n",
        "    surf= ax.plot_surface(x,y,z)    \n",
        "    display.display(plt.gcf()) \n",
        "    display.clear_output(wait=True)\n",
        "    time.sleep(0.001)\n",
        "  if(Total_error<0.01):\n",
        "    break\n",
        "\n",
        "\n",
        "\n",
        "\n",
        "\n",
        "\n",
        "\n",
        "\n",
        "\n",
        "\n",
        "\n",
        "\n",
        "\n",
        "\n",
        "\n",
        "\n"
      ]
    },
    {
      "cell_type": "code",
      "source": [
        "from google.colab import drive\n",
        "drive.mount('/content/drive')"
      ],
      "metadata": {
        "id": "O2RS6cAMKCCx"
      },
      "execution_count": null,
      "outputs": []
    }
  ]
}